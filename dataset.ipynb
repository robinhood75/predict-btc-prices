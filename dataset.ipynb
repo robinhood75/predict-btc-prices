{
 "cells": [
  {
   "cell_type": "markdown",
   "metadata": {},
   "source": [
    "## Make data"
   ]
  },
  {
   "cell_type": "code",
   "execution_count": 1,
   "metadata": {},
   "outputs": [],
   "source": [
    "import os\n",
    "from data.news import *\n",
    "from data.fear_and_greed import *\n",
    "from data.btc import *\n",
    "from data.lunarcrush import *\n",
    "from data.on_chain_data import *\n",
    "from data.main import make_dataset"
   ]
  },
  {
   "cell_type": "code",
   "execution_count": 2,
   "metadata": {},
   "outputs": [],
   "source": [
    "data_folder = os.path.join(\"data\", \"parquet\")"
   ]
  },
  {
   "cell_type": "markdown",
   "metadata": {},
   "source": [
    "### News"
   ]
  },
  {
   "cell_type": "code",
   "execution_count": 59,
   "metadata": {},
   "outputs": [
    {
     "name": "stdout",
     "output_type": "stream",
     "text": [
      "[ERROR GPT] Expecting value: line 1 column 1 (char 0)\n",
      "[ERROR GPT] Expecting value: line 1 column 1 (char 0)\n",
      "[ERROR GPT] Expecting value: line 1 column 1 (char 0)\n",
      "[ERROR GPT] Expecting value: line 1 column 1 (char 0)\n",
      "[ERROR GPT] Expecting value: line 1 column 1 (char 0)\n",
      "[ERROR GPT] Expecting value: line 1 column 1 (char 0)\n",
      "[ERROR GPT] Expecting value: line 1 column 1 (char 0)\n",
      "[ERROR GPT] Expecting value: line 1 column 1 (char 0)\n",
      "[ERROR GPT] Expecting value: line 1 column 1 (char 0)\n",
      "[ERROR GPT] Expecting value: line 1 column 1 (char 0)\n",
      "[ERROR GPT] Expecting value: line 1 column 1 (char 0)\n",
      "[ERROR GPT] Expecting value: line 1 column 1 (char 0)\n",
      "[ERROR GPT] Expecting value: line 1 column 1 (char 0)\n",
      "[ERROR GPT] Expecting value: line 1 column 1 (char 0)\n"
     ]
    }
   ],
   "source": [
    "data_generator = DataGeneratorNews(start_date='2023-06-01', end_date='2023-09-01', data_folder=data_folder, page_size_daily=20)\n",
    "data_raw = data_generator.load_data()\n",
    "df_news = data_generator.transform_data(data_raw)\n",
    "data_generator.save_df(df_news, \"news\")"
   ]
  },
  {
   "cell_type": "code",
   "execution_count": null,
   "metadata": {},
   "outputs": [],
   "source": [
    "dates = [\n",
    "    '2021-06-01',\n",
    "    '2021-03-01',\n",
    "    '2020-12-01'\n",
    "]\n",
    "for start_date, end_date in zip(dates[1:], dates[:-1]):\n",
    "    data_generator = DataGeneratorNews(start_date=start_date, end_date=end_date, data_folder=data_folder, page_size_daily=20)\n",
    "    data_raw = data_generator.load_data()\n",
    "    df_news = data_generator.transform_data(data_raw)\n",
    "    data_generator.save_df(df_news, \"news\")"
   ]
  },
  {
   "cell_type": "markdown",
   "metadata": {},
   "source": [
    "### Fear & Greed CNN Index"
   ]
  },
  {
   "cell_type": "code",
   "execution_count": 44,
   "metadata": {},
   "outputs": [],
   "source": [
    "data_generator = DataGeneratorFearAndGreed('2020-01-01', '2025-01-25', data_folder)\n",
    "data_raw = data_generator.load_data()\n",
    "df_fng = data_generator.transform_data(data_raw)\n",
    "data_generator.save_df(df_fng, name=\"fear_and_greed\")"
   ]
  },
  {
   "cell_type": "markdown",
   "metadata": {},
   "source": [
    "### Cours du bitcoin"
   ]
  },
  {
   "cell_type": "code",
   "execution_count": 4,
   "metadata": {},
   "outputs": [],
   "source": [
    "data_generator = DataGeneratorBTCData('2020-01-01', '2025-01-25', data_folder)\n",
    "data_raw = data_generator.load_data()\n",
    "df_btc = data_generator.transform_data(data_raw)\n",
    "data_generator.save_df(df_btc, name=\"btc\")"
   ]
  },
  {
   "cell_type": "markdown",
   "metadata": {},
   "source": [
    "### LunarCrush"
   ]
  },
  {
   "cell_type": "code",
   "execution_count": 3,
   "metadata": {},
   "outputs": [],
   "source": [
    "data_generator = DataGeneratorLunarCrush('2021-01-01', '2025-01-26', data_folder, hourly=True)\n",
    "data_raw = data_generator.load_data()\n",
    "df_lunar = data_generator.transform_data(data_raw)\n",
    "data_generator.save_df(df_lunar, name=\"lunarcrush\")"
   ]
  },
  {
   "cell_type": "markdown",
   "metadata": {},
   "source": [
    "### On-chain BTC data"
   ]
  },
  {
   "cell_type": "code",
   "execution_count": null,
   "metadata": {},
   "outputs": [],
   "source": [
    "for i, endpoint in enumerate(ENDPOINTS):\n",
    "    data_generator = DataGeneratorOnChainData('2021-01-01', '2025-01-26', data_folder, [endpoint])\n",
    "    data_raw = data_generator.load_data()\n",
    "    df_hodl = data_generator.transform_data(data_raw)\n",
    "    data_generator.save_df(df_hodl, name=f\"_hodl-waves_{i}\")"
   ]
  },
  {
   "cell_type": "code",
   "execution_count": 43,
   "metadata": {},
   "outputs": [],
   "source": [
    "data_files = [pl.read_parquet(f\"data/parquet/{f}\") for f in os.listdir(data_folder) if f.endswith(\".parquet\") and \"_hodl\" in f]\n",
    "df_hodl = data_files[0]\n",
    "for df in data_files[1:]:\n",
    "    df_hodl = df_hodl.join(df, how=\"left\", on=\"date\")\n",
    "\n",
    "df_hodl.drop(\"nvtRatio\").write_parquet(\"data/parquet/on-chain-data_2021-01-01_2025-01-26.parquet\")"
   ]
  },
  {
   "cell_type": "markdown",
   "metadata": {},
   "source": [
    "### Build dataset"
   ]
  },
  {
   "cell_type": "code",
   "execution_count": 3,
   "metadata": {},
   "outputs": [],
   "source": [
    "sources = [\"lunarcrush\", \"btc\", \"news\", \"fear_and_greed\", \"on-chain-data\"]\n",
    "ret = make_dataset(sources, data_folder)\n",
    "ret.write_parquet(os.path.join(data_folder, \"dataset.parquet\"))"
   ]
  },
  {
   "cell_type": "code",
   "execution_count": 6,
   "metadata": {},
   "outputs": [],
   "source": [
    "pl.read_parquet(\"data/parquet/dataset.parquet\").with_columns(pl.col(\"btc_r_close\").alias(\"btc_copy\")).write_parquet(\"data/parquet/dataset.parquet\")"
   ]
  }
 ],
 "metadata": {
  "kernelspec": {
   "display_name": "Python 3",
   "language": "python",
   "name": "python3"
  },
  "language_info": {
   "codemirror_mode": {
    "name": "ipython",
    "version": 3
   },
   "file_extension": ".py",
   "mimetype": "text/x-python",
   "name": "python",
   "nbconvert_exporter": "python",
   "pygments_lexer": "ipython3",
   "version": "3.9.0"
  }
 },
 "nbformat": 4,
 "nbformat_minor": 2
}
